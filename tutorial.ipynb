{
 "cells": [
  {
   "cell_type": "markdown",
   "metadata": {},
   "source": [
    "# Data & Env Initialization"
   ]
  },
  {
   "cell_type": "code",
   "execution_count": 1,
   "metadata": {},
   "outputs": [],
   "source": [
    "import os, sys, gc\n",
    "\n",
    "import zipfile\n",
    "from os import path\n",
    "import numpy as np # linear algebra\n",
    "import pandas as pd # data processing, CSV file I/O (e.g. pd.read_csv)\n",
    "from tqdm import tqdm\n",
    "import matplotlib.pyplot as plt\n",
    "\n",
    "zip_file = \"Sky303.zip\"\n",
    "data_path = \"Sky303/\"\n",
    "\n",
    "input_indice_path = data_path + \"input_indices_{}.npy\"\n",
    "input_data_path = data_path + \"input_data_{}.npy\"\n",
    "target_path = data_path + \"output_indices_{}.npy\"\n",
    "if not path.exists(data_path):\n",
    "    with zipfile.ZipFile(zip_file, 'r') as zip_ref:\n",
    "        zip_ref.extractall(\".\")"
   ]
  },
  {
   "cell_type": "markdown",
   "metadata": {},
   "source": [
    "# Constants"
   ]
  },
  {
   "cell_type": "code",
   "execution_count": 2,
   "metadata": {},
   "outputs": [],
   "source": [
    "# THETA = [2.5, -1.25, 0.] # the theta of the problem describle in the paper\n",
    "N_CONFIGURATIONS = 4262 # number of configuration of the problem\n",
    "IMG_SHAPE = (1355, 3384, 3)\n",
    "H, W = 128, 256 # the window size\n",
    "\n",
    "CAMERA = np.array([[2304.5479, 0,  1686.2379], # the camera matrix\n",
    "                          [0, 2305.8757, -0.0151],\n",
    "                          [0, 0, 1.]], dtype=np.float32)"
   ]
  },
  {
   "cell_type": "markdown",
   "metadata": {},
   "source": [
    "# Data Viz & Utils"
   ]
  },
  {
   "cell_type": "code",
   "execution_count": 3,
   "metadata": {},
   "outputs": [
    {
     "data": {
      "text/plain": [
       "'1.3.1+cu92'"
      ]
     },
     "execution_count": 3,
     "metadata": {},
     "output_type": "execute_result"
    }
   ],
   "source": [
    "import torch\n",
    "from torch.utils.data import Dataset, DataLoader\n",
    "\n",
    "torch.manual_seed(42)\n",
    "torch.__version__"
   ]
  },
  {
   "cell_type": "code",
   "execution_count": 4,
   "metadata": {},
   "outputs": [],
   "source": [
    "class Sky303Dataset(Dataset):\n",
    "    \"\"\"Car dataset.\"\"\"\n",
    "\n",
    "    def __init__(self):\n",
    "        super(Sky303Dataset,self).__init__()\n",
    "\n",
    "    def __len__(self):\n",
    "        return N_CONFIGURATIONS\n",
    "\n",
    "    def __getitem__(self, idx):\n",
    "        if torch.is_tensor(idx):\n",
    "            idx = idx.tolist()\n",
    "            \n",
    "        indice_np = np.load(input_indice_path.format(idx))\n",
    "        input_np = np.load(input_data_path.format(idx))\n",
    "        target_np = np.load(target_path.format(idx))\n",
    "        \n",
    "        input_bin_mask = np.zeros([H, W, 1], dtype='float16')\n",
    "        input_bin_mask[indice_np[:,0],indice_np[:,1],:] = 1.\n",
    "        \n",
    "        input_2Drepr = np.zeros([H, W, 3], dtype='float16')\n",
    "        input_2Drepr[indice_np[:,0],indice_np[:,1],:] = input_np\n",
    "        \n",
    "        target_2Drepr = np.zeros([H, W, 1], dtype='float16')\n",
    "        target_2Drepr[target_np[:,0],target_np[:,1],:] = 1.\n",
    "        \n",
    "        input_bin_mask = np.rollaxis(input_bin_mask, 2, 0)\n",
    "        input_bin_mask = torch.from_numpy(input_bin_mask).float()\n",
    "        \n",
    "        input_2Drepr = np.rollaxis(input_2Drepr, 2, 0)\n",
    "        input_2Drepr = torch.from_numpy(input_2Drepr).float()\n",
    "        \n",
    "        target_2Drepr = np.rollaxis(target_2Drepr, 2, 0)\n",
    "        target_2Drepr = torch.from_numpy(target_2Drepr).float()\n",
    "        \n",
    "        return [input_bin_mask, input_2Drepr, target_2Drepr]"
   ]
  },
  {
   "cell_type": "code",
   "execution_count": 5,
   "metadata": {},
   "outputs": [
    {
     "data": {
      "image/png": "[encoded data removed]",
      "text/plain": [
       "<Figure size 576x576 with 1 Axes>"
      ]
     },
     "metadata": {
      "needs_background": "light"
     },
     "output_type": "display_data"
    },
    {
     "data": {
      "image/png": "[encoded data removed]",
      "text/plain": [
       "<Figure size 576x576 with 1 Axes>"
      ]
     },
     "metadata": {
      "needs_background": "light"
     },
     "output_type": "display_data"
    },
    {
     "data": {
      "image/png": "[encoded data removed]",
      "text/plain": [
       "<Figure size 576x576 with 1 Axes>"
      ]
     },
     "metadata": {
      "needs_background": "light"
     },
     "output_type": "display_data"
    }
   ],
   "source": [
    "dataset = Sky303Dataset()\n",
    "input_bin_mask, input_2Drepr, target_2Drepr = dataset[0]\n",
    "\n",
    "plt.figure(figsize=(8,8))\n",
    "plt.imshow((input_bin_mask.permute(1,2,0).numpy()[:,:,-1]).squeeze())\n",
    "plt.show()\n",
    "\n",
    "plt.figure(figsize=(8,8))\n",
    "plt.imshow(input_2Drepr.permute(1,2,0).numpy()[:,:,-1]/350.)\n",
    "plt.show()\n",
    "\n",
    "plt.figure(figsize=(8,8))\n",
    "plt.imshow((target_2Drepr.permute(1,2,0).numpy()[:,:,-1]).squeeze())\n",
    "plt.show()"
   ]
  },
  {
   "cell_type": "markdown",
   "metadata": {},
   "source": [
    "# Model"
   ]
  },
  {
   "cell_type": "code",
   "execution_count": 6,
   "metadata": {},
   "outputs": [
    {
     "name": "stdout",
     "output_type": "stream",
     "text": [
      "cuda\n"
     ]
    }
   ],
   "source": [
    "import torch.nn as nn\n",
    "import torch.nn.functional as F\n",
    "import torch.optim as optim\n",
    "\n",
    "# Gets the GPU if there is one, otherwise the cpu\n",
    "device = torch.device(\"cuda\" if torch.cuda.is_available() else \"cpu\")\n",
    "print(device)"
   ]
  },
  {
   "cell_type": "code",
   "execution_count": 7,
   "metadata": {},
   "outputs": [],
   "source": [
    "def flip(x, dim):\n",
    "    dim = x.dim() + dim if dim < 0 else dim\n",
    "    return x[tuple(slice(None, None) if i != dim\n",
    "             else torch.arange(x.size(i)-1, -1, -1).long()\n",
    "             for i in range(x.dim()))]\n",
    "\n",
    "class SMap3x3(nn.Module):\n",
    "    def __init__(self, camera_matrix):\n",
    "        super(SMap3x3,self).__init__()\n",
    "        self.camera_matrix = nn.Parameter(torch.from_numpy(camera_matrix), requires_grad=False)\n",
    "        self.camera_matrix_inv = nn.Parameter(torch.from_numpy(np.linalg.inv(camera_matrix)), requires_grad=False)\n",
    "\n",
    "        self.sm = nn.Softmax(dim=2)\n",
    "    \n",
    "    def to_3d(self, z, height, width, panels, original_size):\n",
    "        y_im, x_im = panels\n",
    "        y_im, x_im = torch.from_numpy(y_im).reshape(height, width), torch.from_numpy(x_im).reshape(height, width)\n",
    "        y_im = y_im * IMG_SHAPE[0] / original_size[0]\n",
    "        x_im = x_im * IMG_SHAPE[1] / original_size[1]\n",
    "        y_im, x_im = y_im.to(device), x_im.to(device)\n",
    "        \n",
    "        imp_co = torch.cat([torch.einsum('hw,bczhw->bczhw', x_im.float(), torch.ones_like(z.unsqueeze(2)).float()), torch.einsum('hw,bczhw->bczhw', y_im.float(), torch.ones_like(z.unsqueeze(2)).float()), torch.ones_like(z.unsqueeze(2))], 2)\n",
    "        imp_co = F.unfold(imp_co.reshape(1, -1, height, width), kernel_size=(3,3), stride=(1,1), padding=(1,1), dilation=(1,1)).reshape(z.size(0),z.size(1),3,3*3,height,width)\n",
    "        imp_co = torch.einsum('bchw,bczshw->bczshw', z.float(), imp_co.float()).reshape(z.size(0),z.size(1),3,3*3,-1)\n",
    "        regr_co = torch.einsum('xz,yz->xy', imp_co.reshape(z.size(0),z.size(1),3,-1).permute(0,1,3,2).reshape(-1,3).float(), self.camera_matrix_inv.float())\n",
    "        regr_co = regr_co.reshape(z.size(0),z.size(1),-1,3).permute(0,1,3,2).reshape(z.size(0),z.size(1),3,3*3,height*width)\n",
    "        return regr_co\n",
    "    \n",
    "    def agg(self, x, ind=None, factor=0.):\n",
    "        x = x + ((x>0.).float()-1.)*(-factor)\n",
    "        \n",
    "        sizes = list(x.size())\n",
    "        sizes[2] = 1\n",
    "        sizes[3] = 1\n",
    "        \n",
    "        y01 = torch.cat([(x[:,:,0,1,:,1:,:]), torch.ones_like(x[:,:,0,1,:,:1,:])*factor],dim=-2).reshape(*sizes)\n",
    "        y21 = torch.cat([torch.ones_like(x[:,:,2,1,:,-1:,:])*factor, (x[:,:,2,1,:,:-1,:])],dim=-2).reshape(*sizes)\n",
    "        y10 = torch.cat([(x[:,:,1,0,:,:,1:]), torch.ones_like(x[:,:,1,0,:,:,:1])*factor],dim=-1).reshape(*sizes)\n",
    "        y12 = torch.cat([torch.ones_like(x[:,:,1,2,:,:,-1:])*factor, (x[:,:,1,2,:,:,:-1])],dim=-1).reshape(*sizes)\n",
    "        \n",
    "        y00 = torch.cat([(x[:,:,0,0,:,1:,:]), torch.ones_like(x[:,:,0,0,:,:1,:])*factor],dim=-2).reshape(*sizes)\n",
    "        y00 = torch.cat([(y00[:,:,0,0,:,:,1:]), torch.ones_like(y00[:,:,0,0,:,:,:1])*factor],dim=-1).reshape(*sizes)\n",
    "        \n",
    "        y02 = torch.cat([(x[:,:,0,2,:,1:,:]), torch.ones_like(x[:,:,0,2,:,:1,:])*factor],dim=-2).reshape(*sizes)\n",
    "        y02 = torch.cat([torch.ones_like(y02[:,:,0,0,:,:,-1:])*factor, (y02[:,:,0,0,:,:,:-1])],dim=-1).reshape(*sizes)\n",
    "        \n",
    "        y20 = torch.cat([torch.ones_like(x[:,:,2,0,:,-1:,:])*factor, (x[:,:,2,0,:,:-1,:])],dim=-2).reshape(*sizes)\n",
    "        y20 = torch.cat([(y20[:,:,0,0,:,:,1:]), torch.ones_like(y20[:,:,0,0,:,:,:1])*factor],dim=-1).reshape(*sizes)\n",
    "        \n",
    "        y22 = torch.cat([torch.ones_like(x[:,:,2,2,:,-1:,:])*factor, (x[:,:,2,2,:,:-1,:])],dim=-2).reshape(*sizes)\n",
    "        y22 = torch.cat([torch.ones_like(y22[:,:,0,0,:,:,-1:])*factor, (y22[:,:,0,0,:,:,:-1])],dim=-1).reshape(*sizes)\n",
    "        y11 = (x[:,:,1,1,:,:,:]).reshape(*sizes)\n",
    "        \n",
    "        sizes[2] = 3*3\n",
    "        sizes[3] = 1\n",
    "        \n",
    "        x = torch.cat([y00,y01,y02,y10,y11,y12,y20,y21,y22],dim=2).reshape(*sizes)\n",
    "\n",
    "        if ind is None:\n",
    "            return x\n",
    "        if sizes[4] == 3:\n",
    "            sizes[4] = 1\n",
    "            x0 = (x[:,:,:,:,:1,:,:]).reshape(*sizes)\n",
    "            x1 = (x[:,:,:,:,1:2,:,:]).reshape(*sizes)\n",
    "            x2 = (x[:,:,:,:,2:,:,:]).reshape(*sizes)\n",
    "            \n",
    "            sizes[2] = 1\n",
    "            sizes[3] = 1\n",
    "            \n",
    "            x0 = torch.sum(torch.where(ind,x0,torch.zeros_like(x0)),dim=2,keepdim=True)\n",
    "            x1 = torch.sum(torch.where(ind,x1,torch.zeros_like(x1)),dim=2,keepdim=True)\n",
    "            x2 = torch.sum(torch.where(ind,x2,torch.zeros_like(x2)),dim=2,keepdim=True)\n",
    "            \n",
    "            return torch.cat([x0.reshape(*sizes), x1.reshape(*sizes), x2.reshape(*sizes)], dim=4)\n",
    "        \n",
    "        sizes[2] = 1\n",
    "        sizes[3] = 1\n",
    "        return torch.sum(torch.where(ind,x,torch.zeros_like(x)),dim=2,keepdim=True).reshape(*sizes)\n",
    "    \n",
    "    def forward(self, x, r_mask, target_2Dr, original_size):\n",
    "        shapes = x.size()\n",
    "        BATCH_SIZE, height, width = shapes[0], shapes[-2], shapes[-1]\n",
    "\n",
    "        x_z_value = torch.cat([x, r_mask], dim=2)\n",
    "        \n",
    "        # \n",
    "        height = height + 2**0 + 2**0\n",
    "        width = width + 2**0 + 2**0\n",
    "        \n",
    "        x_z_value = torch.cat([torch.zeros_like(x_z_value[:,:,:,:,:(2**0)]), x_z_value, torch.zeros_like(x_z_value[:,:,:,:,:(2**0)])], dim=-1)\n",
    "        x_z_value = torch.cat([torch.zeros_like(x_z_value[:,:,:,:(2**0),:]), x_z_value, torch.zeros_like(x_z_value[:,:,:,:(2**0),:])], dim=-2)\n",
    "\n",
    "        panels = list(np.where(np.ones([height, width])))\n",
    "        offset_codes = ((height-original_size[0]), (width-original_size[1]))\n",
    "        panels[0] = panels[0] - (offset_codes[0]//2) + .5\n",
    "        panels[1] = panels[1] - (offset_codes[1]//2) + .5\n",
    "\n",
    "        # \n",
    "        z_values = (x_z_value[:,:,2:3,:,:]).reshape(BATCH_SIZE,-1,1,height, width).detach().clone()\n",
    "        r_mask = (x_z_value[:,:,3:4,:,:]).reshape(BATCH_SIZE,-1,1,height, width)\n",
    "        x_z_value = x_z_value[:,:,:3,:,:].reshape(BATCH_SIZE,-1,3,height, width)\n",
    "        grouped_key = x_z_value.reshape(BATCH_SIZE,-1,3,1,height*width)\n",
    "\n",
    "        updated_key_z = self.to_3d(z_values.reshape(BATCH_SIZE,-1,height, width), height, width, panels, original_size)\n",
    "        query = updated_key_z.reshape(BATCH_SIZE,-1,3,3*3,height*width).reshape(BATCH_SIZE,-1,3,3*3,height*width).detach().clone()\n",
    "\n",
    "        key_query = torch.sum(torch.abs(grouped_key[:,:,:2,:,:]-query[:,:,:2,:,:]),dim=2).reshape(BATCH_SIZE,-1,3*3,height, width)\n",
    "        \n",
    "        weights_b = torch.zeros_like(key_query)\n",
    "        _, ind = torch.max(-key_query,dim=2,keepdim=True)\n",
    "        ind_mask = F.one_hot(ind, num_classes=3*3).reshape(BATCH_SIZE,-1,height, width,3*3).permute(0,1,4,2,3).reshape(BATCH_SIZE,-1,3*3,height, width)\n",
    "        weights_b[ind_mask>.5] = 1.\n",
    "        weights_b = (weights_b*r_mask).reshape(BATCH_SIZE,-1,3,3,height, width)\n",
    "        new_x_z_value = torch.einsum('bcsthw,bczhw->bcstzhw', weights_b.detach().clone(), x_z_value)\n",
    "        new_z_values = torch.einsum('bcsthw,bczhw->bcstzhw', weights_b, z_values).detach().clone()\n",
    "        \n",
    "        ind = self.agg(new_z_values, factor=1e7)\n",
    "        _, ind = torch.min(ind,dim=2,keepdim=True)\n",
    "        ind = F.one_hot(ind, num_classes=3*3).reshape(BATCH_SIZE,-1,1,1,height, width,3*3).permute(0,1,6,2,3,4,5).reshape(BATCH_SIZE,-1,3*3,1,1,height, width)\n",
    "        ind = (ind>.5)\n",
    "        new_x_z_value = self.agg(new_x_z_value, ind=ind).reshape(-1,3,height, width)\n",
    "        new_r_mask = self.agg(weights_b.reshape(BATCH_SIZE,-1,3,3,1,height, width), ind=ind).reshape(-1,1,height, width)\n",
    "        weights = None\n",
    "        \n",
    "        if target_2Dr is not None:\n",
    "            shapes = target_2Dr.size()\n",
    "            BATCH_SIZE, C_zoom, h_zoom, w_zoom = shapes[0], shapes[1], shapes[-2], shapes[-1]\n",
    "            \n",
    "            target_2Dr, _ = torch.max(target_2Dr.reshape(batch_size,-1,1,h_zoom, w_zoom),dim=1,keepdim=False)\n",
    "\n",
    "            weights = weights_b.reshape(BATCH_SIZE,C_zoom,3*3,height, width)+(key_query.detach().clone()-key_query).reshape(BATCH_SIZE,C_zoom,3*3,height, width)\n",
    "            weights = weights.reshape(BATCH_SIZE,C_zoom,3,3,1,height, width)*r_mask.reshape(BATCH_SIZE,C_zoom,1,1,1,height, width)\n",
    "            weights = self.agg(weights).reshape(BATCH_SIZE,C_zoom,3,3,1,height, width)\n",
    "            \n",
    "            allow = torch.ones_like(weights).reshape(BATCH_SIZE,C_zoom,3*3,1,height, width)\n",
    "            allow[:,:,:,:,((height-h_zoom)//2):((height+h_zoom)//2),((width-w_zoom)//2):((width+w_zoom)//2)] = (weights.reshape(BATCH_SIZE,C_zoom,3*3,1,height, width)[:,:,:,:,((height-h_zoom)//2):((height+h_zoom)//2),((width-w_zoom)//2):((width+w_zoom)//2)])*target_2Dr.reshape(BATCH_SIZE,1,1,1,h_zoom, w_zoom)\n",
    "            allow = self.agg(flip(allow,2).reshape(BATCH_SIZE,C_zoom,3,3,1,height, width)).reshape(BATCH_SIZE,C_zoom,3*3,1,1,height, width)\n",
    "            allow = torch.max(allow,dim=2,keepdim=True)[0]\n",
    "            allow = 1.-allow\n",
    "            allow = torch.cat([allow, allow, allow],dim=2)\n",
    "            allow = torch.cat([allow, allow, allow],dim=3).reshape(BATCH_SIZE,C_zoom,3,3,1,height, width)\n",
    "            allow = (self.agg(allow).reshape(BATCH_SIZE,-1,height, width)[:,:,((height-h_zoom)//2):((height+h_zoom)//2),((width-w_zoom)//2):((width+w_zoom)//2)]).reshape(BATCH_SIZE,-1,h_zoom, w_zoom)\n",
    "            \n",
    "            new_x_z_value = None\n",
    "            weights = (weights.reshape(BATCH_SIZE,-1,height, width)[:,:,((height-h_zoom)//2):((height+h_zoom)//2),((width-w_zoom)//2):((width+w_zoom)//2)]).reshape(BATCH_SIZE,-1,h_zoom, w_zoom)\n",
    "            new_r_mask = (new_r_mask[:,:,((height-h_zoom)//2):((height+h_zoom)//2),((width-w_zoom)//2):((width+w_zoom)//2)]).reshape(BATCH_SIZE,-1,h_zoom, w_zoom)\n",
    "            \n",
    "            weights = weights.detach().clone() + (weights-weights.detach().clone())*allow.detach().clone()*target_2Dr.reshape(BATCH_SIZE,1,h_zoom, w_zoom)\n",
    "            \n",
    "        return new_x_z_value, new_r_mask, weights\n",
    "\n",
    "class SMap(nn.Module):\n",
    "    def __init__(self, n, camera_matrix):\n",
    "        super(SMap,self).__init__()\n",
    "        self.n = n\n",
    "        self.smap3x3 = SMap3x3(camera_matrix)\n",
    "    \n",
    "    def forward(self, x, r_mask, target_2Dr=None, zoom=0):\n",
    "        shapes = x.size()\n",
    "        BATCH_SIZE, height, width = shapes[0], shapes[2], shapes[3]\n",
    "        C_zoom = 2**(self.n+self.n)\n",
    "        C_zoom_2 = 2**self.n\n",
    "        height_zoom = height // (2**self.n)\n",
    "        width_zoom = width // (2**self.n)\n",
    "\n",
    "        x = x.reshape(BATCH_SIZE,3,height_zoom,C_zoom_2, width_zoom,C_zoom_2).permute(0,3,5,1,2,4).reshape(BATCH_SIZE,C_zoom,3,height_zoom, width_zoom)\n",
    "        r_mask = r_mask.detach().clone().reshape(BATCH_SIZE,1,height_zoom,C_zoom_2, width_zoom,C_zoom_2).permute(0,3,5,1,2,4).reshape(BATCH_SIZE,C_zoom,1,height_zoom, width_zoom)\n",
    "        \n",
    "        target = None\n",
    "        if target_2Dr is not None:\n",
    "            target_2Dr = target_2Dr.reshape(batch_size,1,height_zoom,C_zoom_2, width_zoom,C_zoom_2).permute(0,3,5,1,2,4).reshape(batch_size,C_zoom,1,height_zoom, width_zoom)\n",
    "            if self.n==zoom:\n",
    "                target = target_2Dr.reshape(batch_size,-1,height_zoom, width_zoom)\n",
    "        x, r_mask, weights = self.smap3x3(x, r_mask, target, (height_zoom, width_zoom))\n",
    "        _, _, h_out, w_out = r_mask.size()\n",
    "        \n",
    "        for i in range(self.n-zoom):\n",
    "            C_zoom = C_zoom//4\n",
    "            C_zoom_2 = C_zoom_2//2\n",
    "            height_zoom = height_zoom*2\n",
    "            width_zoom = width_zoom*2\n",
    "            h_out = h_out*2\n",
    "            w_out = w_out*2\n",
    "            x = x.reshape(-1,2,C_zoom_2,2,C_zoom_2,3,h_out//2, w_out//2).permute(0,2,4,5,6,1,7,3).reshape(-1,C_zoom,3,h_out, w_out)\n",
    "            r_mask = r_mask.reshape(-1,2,C_zoom_2,2,C_zoom_2,1,h_out//2, w_out//2).permute(0,2,4,5,6,1,7,3).reshape(-1,C_zoom,1,h_out, w_out)\n",
    "            if target_2Dr is not None:\n",
    "                target_2Dr = target_2Dr.reshape(batch_size,2,C_zoom_2,2,C_zoom_2,1,height_zoom//2, width_zoom//2).permute(0,2,4,5,6,1,7,3).reshape(batch_size,C_zoom,height_zoom, width_zoom)\n",
    "                if i==(self.n-zoom-1):\n",
    "                    target = target_2Dr.reshape(batch_size,-1,height_zoom, width_zoom)\n",
    "\n",
    "            x, r_mask, weights = self.smap3x3(x, r_mask, target, (height_zoom, width_zoom))\n",
    "            _, _, h_out, w_out = r_mask.size()\n",
    "        \n",
    "        return r_mask, weights\n",
    "\n",
    "class Model(nn.Module):\n",
    "    def __init__(self, camera_matrix, n=0):\n",
    "        super(Model,self).__init__()\n",
    "        self.n = n\n",
    "        \n",
    "        self.phi = nn.Parameter(torch.from_numpy(np.array([.0])).float().reshape(1,1), requires_grad=True)\n",
    "        self.gamma = nn.Parameter(torch.from_numpy(np.array([.0])).float().reshape(1,1), requires_grad=True)\n",
    "        self.rho = nn.Parameter(torch.from_numpy(np.array([.0])).float().reshape(1,1), requires_grad=True)\n",
    "        self.theta = nn.Parameter(torch.from_numpy(np.array([0.,-0.,0.])).float().reshape(1,3,1,1), requires_grad=True)\n",
    "        self.smap_layer = SMap(n, camera_matrix)\n",
    "        \n",
    "        self.I00 = nn.Parameter(torch.from_numpy(np.array([[1.,.0,.0],[.0,0.,.0],[.0,.0,0.]])).float().reshape(3,3), requires_grad=False)\n",
    "        self.I01 = nn.Parameter(torch.from_numpy(np.array([[0.,1.,.0],[.0,0.,.0],[.0,.0,0.]])).float().reshape(3,3), requires_grad=False)\n",
    "        self.I10 = nn.Parameter(torch.from_numpy(np.array([[0.,.0,.0],[1.,0.,.0],[.0,.0,0.]])).float().reshape(3,3), requires_grad=False)\n",
    "        self.I11 = nn.Parameter(torch.from_numpy(np.array([[0.,.0,.0],[.0,1.,.0],[.0,.0,0.]])).float().reshape(3,3), requires_grad=False)\n",
    "        self.I22 = nn.Parameter(torch.from_numpy(np.array([[0.,.0,.0],[.0,0.,.0],[.0,.0,1.]])).float().reshape(3,3), requires_grad=False)\n",
    "        \n",
    "    def forward(self, x, r_mask, target_2Dr=None, zoom=0):\n",
    "        phi = torch.tanh(3e-2*self.phi)*np.pi\n",
    "        gamma = torch.tanh(3e-2*self.gamma)*np.pi\n",
    "        rho = torch.tanh(3e-2*self.rho)*np.pi\n",
    "        r = torch.cos(phi)*self.I00-torch.sin(phi)*self.I01+torch.sin(phi)*self.I10+torch.cos(phi)*self.I11+self.I22\n",
    "        y = torch.cos(gamma)*self.I00-torch.sin(gamma)*self.I01+torch.sin(gamma)*self.I10+torch.cos(gamma)*self.I11+self.I22\n",
    "        p = torch.cos(rho)*self.I00-torch.sin(rho)*self.I01+torch.sin(rho)*self.I10+torch.cos(rho)*self.I11+self.I22\n",
    "        \n",
    "        x_r = torch.einsum('bdef,cd->bcef',x,r.detach())+torch.einsum('bdef,cd->bcef',torch.sign(x),(r-r.detach()))\n",
    "        x_r = torch.cat([x_r[:,1:,:,:],x_r[:,:1,:,:]],dim=1)\n",
    "        x_r = torch.einsum('bdef,cd->bcef',x_r,y.detach())+torch.einsum('bdef,cd->bcef',torch.sign(x_r),(y-y.detach()))\n",
    "        x_r = torch.cat([x_r[:,1:,:,:],x_r[:,:1,:,:]],dim=1)\n",
    "        x_r = torch.einsum('bdef,cd->bcef',x_r,p.detach())+torch.einsum('bdef,cd->bcef',torch.sign(x_r),(p-p.detach()))\n",
    "        x_r = torch.cat([x_r[:,1:,:,:],x_r[:,:1,:,:]],dim=1)\n",
    "        \n",
    "        x_t = x_r.detach()+r_mask*self.theta\n",
    "        \n",
    "        x_t = x+torch.where(r_mask>0.,x_t-x,torch.zeros_like(r_mask))\n",
    "        k_t = torch.where((x_t[:,-1:,:,:])>0.,5./x_t[:,-1:,:,:],torch.ones_like(x_t[:,-1:,:,:]))\n",
    "        \n",
    "        x_r = x_r+r_mask*self.theta.detach()\n",
    "\n",
    "        r_mask, weights = self.smap_layer(k_t*x_t+(x_r-x_r.detach()), r_mask, target_2Dr, zoom)\n",
    "\n",
    "        return phi, gamma, rho, r_mask, weights"
   ]
  },
  {
   "cell_type": "code",
   "execution_count": 8,
   "metadata": {},
   "outputs": [],
   "source": [
    "def create_model(camera_matrix, n):\n",
    "    return Model(camera_matrix, n)"
   ]
  },
  {
   "cell_type": "markdown",
   "metadata": {},
   "source": [
    "# Datasets"
   ]
  },
  {
   "cell_type": "code",
   "execution_count": 9,
   "metadata": {},
   "outputs": [],
   "source": [
    "from sklearn.model_selection import train_test_split\n",
    "from torch.utils.data import Dataset, DataLoader, SequentialSampler, SubsetRandomSampler"
   ]
  },
  {
   "cell_type": "code",
   "execution_count": 10,
   "metadata": {},
   "outputs": [],
   "source": [
    "train_idx, valid_idx= train_test_split(\n",
    "    np.random.choice(np.arange(N_CONFIGURATIONS), size=512, replace=False), test_size=0.25, random_state=0, shuffle=True)\n",
    "\n",
    "train_sampler = SubsetRandomSampler(train_idx)\n",
    "valid_sampler = SequentialSampler(valid_idx)"
   ]
  },
  {
   "cell_type": "markdown",
   "metadata": {},
   "source": [
    "# Training"
   ]
  },
  {
   "cell_type": "code",
   "execution_count": 11,
   "metadata": {},
   "outputs": [],
   "source": [
    "def l1_error(pred, target):\n",
    "    shapes = target.size()\n",
    "    m_batch_size, height, width = shapes[0], shapes[-2], shapes[-1]\n",
    "    \n",
    "    pred = pred.reshape(m_batch_size, -1, height*width)\n",
    "    pred_m, _ = torch.max(pred.reshape(m_batch_size, -1, height*width),dim=1,keepdim=True)\n",
    "    target = target.reshape(m_batch_size, 1, -1)\n",
    "    target_m = target.reshape(m_batch_size, 1, -1)\n",
    "    \n",
    "    loss = torch.abs(pred-target)\n",
    "    loss_m = torch.abs(pred_m-target_m)*pred_m\n",
    "    \n",
    "    loss = loss.reshape(m_batch_size, -1).sum(dim=1)\n",
    "    loss_m = loss_m.reshape(m_batch_size, -1).sum(dim=1)\n",
    "    \n",
    "    loss = torch.mean(loss_m).detach().clone()+(loss-loss.detach().clone()).sum()\n",
    "    return loss\n",
    "\n",
    "def train_loop_fn(loader, zoom, epoch, history=None):\n",
    "    model.train()\n",
    "    for batch_idx, (r_mask_batch, input_2Dr_batch, target_2Dr_batch) in enumerate(tqdm(loader)):\n",
    "        m_batchsize = r_mask_batch.size(0)\n",
    "        if m_batchsize != batch_size:\n",
    "            break\n",
    "        else:\n",
    "            r_mask_batch, input_2Dr_batch, target_2Dr_batch = r_mask_batch.to(device), input_2Dr_batch.to(device), target_2Dr_batch.to(device)\n",
    "\n",
    "        optimizer.zero_grad()\n",
    "        \n",
    "        r, p, y, r_mask, weights = model(input_2Dr_batch, r_mask_batch, target_2Dr_batch, zoom)\n",
    "        \n",
    "        target_2Dr = target_2Dr_batch.reshape(m_batchsize,1,H//(2**zoom),(2**zoom),W//(2**zoom),(2**zoom)).permute(0,3,5,1,2,4).reshape(m_batchsize,(2**(zoom+zoom)),1,H//(2**zoom),W//(2**zoom))\n",
    "        target_2Dr, _ = torch.max(target_2Dr,dim=1,keepdim=False)\n",
    "\n",
    "        loss = l1_error(weights, target_2Dr)\n",
    "\n",
    "        loss.backward()\n",
    "        optimizer.step()\n",
    "\n",
    "        loss_np = loss.detach().cpu().numpy()\n",
    "\n",
    "        history.loc[(zoom, epoch, batch_idx), 'theta_x'] = (model.theta[0,0,0,0]).detach().cpu().numpy()\n",
    "        history.loc[(zoom, epoch, batch_idx), 'theta_y'] = (model.theta[0,1,0,0]).detach().cpu().numpy()\n",
    "        history.loc[(zoom, epoch, batch_idx), 'theta_z'] = (model.theta[0,2,0,0]).detach().cpu().numpy()\n",
    "        history.loc[(zoom, epoch, batch_idx), 'phi'] = (r[0,0]).detach().cpu().numpy()\n",
    "        history.loc[(zoom, epoch, batch_idx), 'gamma'] = (p[0,0]).detach().cpu().numpy()\n",
    "        history.loc[(zoom, epoch, batch_idx), 'rho'] = (y[0,0]).detach().cpu().numpy()\n",
    "        history.loc[(zoom, epoch, batch_idx), 'loss'] = loss_np\n",
    "        \n",
    "    print('Train Epoch: ({}, {}) \\tLR: {:.6f}\\tLoss: {:.6f}'.format(\n",
    "            zoom, epoch,\n",
    "            optimizer.state_dict()['param_groups'][0]['lr'],\n",
    "            history['loss'].iloc[(-len(train_loader)+1):].mean()))\n",
    "    \n",
    "def evaluate_model(loader, key, history=None):\n",
    "    model.eval()\n",
    "    loss_np = 0.\n",
    "    count = 0.\n",
    "\n",
    "    with torch.no_grad():\n",
    "        for batch_idx, (r_mask_batch, input_2Dr_batch, target_2Dr_batch) in enumerate(tqdm(loader)):\n",
    "            m_batchsize = r_mask_batch.size(0)\n",
    "            if m_batchsize != batch_size:\n",
    "                break\n",
    "            r_mask_batch, input_2Dr_batch, target_2Dr_batch = r_mask_batch.to(device), input_2Dr_batch.to(device), target_2Dr_batch.to(device)\n",
    "\n",
    "            optimizer.zero_grad()\n",
    "\n",
    "            r, p, y, r_mask, weights = model(input_2Dr_batch, r_mask_batch, target_2Dr_batch)\n",
    "            \n",
    "            l1 = l1_error(weights, target_2Dr_batch)\n",
    "            loss_np += l1.detach().cpu().numpy()\n",
    "            count = count+1.\n",
    "    loss_np /= count\n",
    "    history.loc[key, 'theta_x'] = (model.theta[0,0,0,0]).detach().cpu().numpy()\n",
    "    history.loc[key, 'theta_y'] = (model.theta[0,1,0,0]).detach().cpu().numpy()\n",
    "    history.loc[key, 'theta_z'] = (model.theta[0,2,0,0]).detach().cpu().numpy()\n",
    "    history.loc[key, 'phi'] = (r[0,0]).detach().cpu().numpy()\n",
    "    history.loc[key, 'gamma'] = (p[0,0]).detach().cpu().numpy()\n",
    "    history.loc[key, 'rho'] = (y[0,0]).detach().cpu().numpy()\n",
    "    history.loc[key, 'dev_loss'] = loss_np\n",
    "    print(\"n_epochs: {} - lr: {}\".format(*key))\n",
    "    print('theta_x: {:.4f}'.format((model.theta[0,0,0,0]).detach().cpu().numpy()))\n",
    "    print('theta_y: {:.4f}'.format((model.theta[0,1,0,0]).detach().cpu().numpy()))\n",
    "    print('theta_z: {:.4f}'.format((model.theta[0,2,0,0]).detach().cpu().numpy()))\n",
    "    print('phi: {:.4f}'.format((r[0,0]).detach().cpu().numpy()))\n",
    "    print('gamma: {:.4f}'.format((p[0,0]).detach().cpu().numpy()))\n",
    "    print('rho: {:.4f}'.format((y[0,0]).detach().cpu().numpy()))\n",
    "    print('Dev loss: {:.4f}'.format(loss_np))"
   ]
  },
  {
   "cell_type": "code",
   "execution_count": 12,
   "metadata": {
    "scrolled": true
   },
   "outputs": [
    {
     "name": "stdout",
     "output_type": "stream",
     "text": [
      "Wall time: 0 ns\n"
     ]
    },
    {
     "name": "stderr",
     "output_type": "stream",
     "text": [
      "100%|██████████████████████████████████████████████████████████████████████████████████| 24/24 [00:19<00:00,  1.23it/s]\n",
      "  0%|                                                                                           | 0/24 [00:00<?, ?it/s]"
     ]
    },
    {
     "name": "stdout",
     "output_type": "stream",
     "text": [
      "Train Epoch: (4, 0) \tLR: 0.001000\tLoss: 0.934783\n"
     ]
    },
    {
     "name": "stderr",
     "output_type": "stream",
     "text": [
      "100%|██████████████████████████████████████████████████████████████████████████████████| 24/24 [00:07<00:00,  3.38it/s]\n",
      "  0%|                                                                                           | 0/24 [00:00<?, ?it/s]"
     ]
    },
    {
     "name": "stdout",
     "output_type": "stream",
     "text": [
      "Train Epoch: (4, 1) \tLR: 0.001000\tLoss: 0.497283\n"
     ]
    },
    {
     "name": "stderr",
     "output_type": "stream",
     "text": [
      "100%|██████████████████████████████████████████████████████████████████████████████████| 24/24 [00:14<00:00,  1.62it/s]\n",
      "  0%|                                                                                           | 0/24 [00:00<?, ?it/s]"
     ]
    },
    {
     "name": "stdout",
     "output_type": "stream",
     "text": [
      "Train Epoch: (3, 0) \tLR: 0.001000\tLoss: 1.105978\n"
     ]
    },
    {
     "name": "stderr",
     "output_type": "stream",
     "text": [
      "100%|██████████████████████████████████████████████████████████████████████████████████| 24/24 [00:14<00:00,  1.61it/s]\n",
      "  0%|                                                                                           | 0/24 [00:00<?, ?it/s]"
     ]
    },
    {
     "name": "stdout",
     "output_type": "stream",
     "text": [
      "Train Epoch: (3, 1) \tLR: 0.001000\tLoss: 1.179348\n"
     ]
    },
    {
     "name": "stderr",
     "output_type": "stream",
     "text": [
      "100%|██████████████████████████████████████████████████████████████████████████████████| 24/24 [00:23<00:00,  1.02it/s]\n",
      "  0%|                                                                                           | 0/24 [00:00<?, ?it/s]"
     ]
    },
    {
     "name": "stdout",
     "output_type": "stream",
     "text": [
      "Train Epoch: (2, 0) \tLR: 0.000500\tLoss: 3.059783\n"
     ]
    },
    {
     "name": "stderr",
     "output_type": "stream",
     "text": [
      "100%|██████████████████████████████████████████████████████████████████████████████████| 24/24 [00:23<00:00,  1.02it/s]\n",
      "  0%|                                                                                           | 0/24 [00:00<?, ?it/s]"
     ]
    },
    {
     "name": "stdout",
     "output_type": "stream",
     "text": [
      "Train Epoch: (2, 1) \tLR: 0.000500\tLoss: 2.421196\n"
     ]
    },
    {
     "name": "stderr",
     "output_type": "stream",
     "text": [
      "100%|██████████████████████████████████████████████████████████████████████████████████| 24/24 [00:32<00:00,  1.36s/it]\n",
      "  0%|                                                                                           | 0/24 [00:00<?, ?it/s]"
     ]
    },
    {
     "name": "stdout",
     "output_type": "stream",
     "text": [
      "Train Epoch: (1, 0) \tLR: 0.000500\tLoss: 4.035326\n"
     ]
    },
    {
     "name": "stderr",
     "output_type": "stream",
     "text": [
      "100%|██████████████████████████████████████████████████████████████████████████████████| 24/24 [00:33<00:00,  1.39s/it]\n",
      "  0%|                                                                                           | 0/24 [00:00<?, ?it/s]"
     ]
    },
    {
     "name": "stdout",
     "output_type": "stream",
     "text": [
      "Train Epoch: (1, 1) \tLR: 0.000500\tLoss: 1.559783\n"
     ]
    },
    {
     "name": "stderr",
     "output_type": "stream",
     "text": [
      "100%|██████████████████████████████████████████████████████████████████████████████████| 24/24 [00:42<00:00,  1.76s/it]\n",
      "  0%|                                                                                           | 0/24 [00:00<?, ?it/s]"
     ]
    },
    {
     "name": "stdout",
     "output_type": "stream",
     "text": [
      "Train Epoch: (0, 0) \tLR: 0.000250\tLoss: 2.209239\n"
     ]
    },
    {
     "name": "stderr",
     "output_type": "stream",
     "text": [
      "100%|██████████████████████████████████████████████████████████████████████████████████| 24/24 [00:42<00:00,  1.75s/it]\n",
      "  0%|                                                                                            | 0/8 [00:00<?, ?it/s]"
     ]
    },
    {
     "name": "stdout",
     "output_type": "stream",
     "text": [
      "Train Epoch: (0, 1) \tLR: 0.000250\tLoss: 1.008152\n"
     ]
    },
    {
     "name": "stderr",
     "output_type": "stream",
     "text": [
      "100%|████████████████████████████████████████████████████████████████████████████████████| 8/8 [00:08<00:00,  1.09s/it]"
     ]
    },
    {
     "name": "stdout",
     "output_type": "stream",
     "text": [
      "n_epochs: 2 - lr: 0.001\n",
      "theta_x: 0.5153\n",
      "theta_y: -0.3037\n",
      "theta_z: 0.0003\n",
      "phi: 0.0000\n",
      "gamma: -0.0000\n",
      "rho: -0.0000\n",
      "Dev loss: 1.1719\n",
      "Speed: 68.37523651123047 ms/sample\n"
     ]
    },
    {
     "name": "stderr",
     "output_type": "stream",
     "text": [
      "\n"
     ]
    }
   ],
   "source": [
    "import time\n",
    "%time\n",
    "\n",
    "\n",
    "n_epochs_list = [2]\n",
    "lr_list = [1e-3]\n",
    "batch_size = 16\n",
    "n = 4\n",
    "optimizer = None\n",
    "model = None\n",
    "\n",
    "\n",
    "train_loader = torch.utils.data.DataLoader(dataset, batch_size=batch_size, num_workers=0, sampler=train_sampler)\n",
    "dev_loader = torch.utils.data.DataLoader(dataset, batch_size=batch_size, num_workers=0, sampler=valid_sampler)\n",
    "\n",
    "fileName = None\n",
    "dev_history = pd.DataFrame(index=pd.MultiIndex.from_tuples((), names=['epoch', 'lr']), columns=['theta_x', 'theta_y', 'theta_z', 'dev_loss'])\n",
    "\n",
    "torch.cuda.empty_cache()\n",
    "gc.collect()\n",
    "\n",
    "for i_epoch in range(len(n_epochs_list)):\n",
    "    for i_lr in range(len(lr_list)):\n",
    "        n_epochs = n_epochs_list[i_epoch]\n",
    "        lr = lr_list[i_lr]\n",
    "        train_history = pd.DataFrame(index=pd.MultiIndex.from_tuples((), names=['zoom', 'epoch', 'batch_id']), columns=['theta_x', 'theta_y', 'theta_z', 'loss'])\n",
    "\n",
    "        model = create_model(CAMERA, n)\n",
    "        if fileName is not None:\n",
    "            state_dict = torch.load(fileName, map_location='cpu')\n",
    "            model.load_state_dict(state_dict, strict=False)\n",
    "            del state_dict\n",
    "            print(\"Loaded!!\")\n",
    "        model = model.to(device)\n",
    "\n",
    "        torch.cuda.empty_cache()\n",
    "\n",
    "        gc.collect()\n",
    "        optimizer = optim.SGD(list(model.parameters()), lr=lr)\n",
    "        scheduler = optim.lr_scheduler.StepLR(optimizer, step_size=n_epochs, gamma=.5)\n",
    "\n",
    "        torch.cuda.empty_cache()\n",
    "        gc.collect()\n",
    "\n",
    "        for i in range(n+1):\n",
    "            for epoch in range(n_epochs):\n",
    "                zoom = n-i\n",
    "                torch.cuda.empty_cache()\n",
    "                gc.collect()\n",
    "\n",
    "                loader = train_loader\n",
    "                train_loop_fn(loader, zoom, epoch, train_history)\n",
    "                \n",
    "            scheduler.step()\n",
    "\n",
    "        loader = dev_loader\n",
    "        start = time.time()*1000.0\n",
    "        evaluate_model(loader, (n_epochs, lr), dev_history)\n",
    "        t_interval = time.time()*1000.0 - start\n",
    "        print(\"Speed: {} ms/sample\".format(t_interval/(len(dev_loader)*batch_size)))\n",
    "\n",
    "        gc.collect()\n",
    "        optimizer = None\n",
    "        gc.collect()\n",
    "\n",
    "        train_history.to_csv('train_history_{}_{}.csv'.format(i_epoch, i_lr))\n",
    "        torch.save(model.state_dict(), \"./model_{}_{}.pth\".format(i_epoch, i_lr))\n",
    "dev_history.to_csv('dev_history.csv')"
   ]
  },
  {
   "cell_type": "markdown",
   "metadata": {},
   "source": [
    "# Result Visualization"
   ]
  },
  {
   "cell_type": "code",
   "execution_count": 13,
   "metadata": {},
   "outputs": [
    {
     "data": {
      "image/png": "[encoded data removed]",
      "text/plain": [
       "<Figure size 432x288 with 1 Axes>"
      ]
     },
     "metadata": {
      "needs_background": "light"
     },
     "output_type": "display_data"
    },
    {
     "data": {
      "image/png": "[encoded data removed]",
      "text/plain": [
       "<Figure size 432x288 with 1 Axes>"
      ]
     },
     "metadata": {
      "needs_background": "light"
     },
     "output_type": "display_data"
    }
   ],
   "source": [
    "for i_epoch in range(len(n_epochs_list)):\n",
    "    for i_lr in range(len(lr_list)):\n",
    "        train_history = pd.read_csv('train_history_{}_{}.csv'.format(i_epoch, i_lr))\n",
    "        train_history[['loss']].plot();\n",
    "        train_history[['theta_x', 'theta_y', 'theta_z']].plot();"
   ]
  },
  {
   "cell_type": "code",
   "execution_count": 14,
   "metadata": {},
   "outputs": [
    {
     "data": {
      "image/png": "[encoded data removed]",
      "text/plain": [
       "<Figure size 432x288 with 1 Axes>"
      ]
     },
     "metadata": {
      "needs_background": "light"
     },
     "output_type": "display_data"
    },
    {
     "data": {
      "image/png": "[encoded data removed]",
      "text/plain": [
       "<Figure size 432x288 with 1 Axes>"
      ]
     },
     "metadata": {
      "needs_background": "light"
     },
     "output_type": "display_data"
    }
   ],
   "source": [
    "for i_epoch in range(len(n_epochs_list)):\n",
    "    for i_lr in range(len(lr_list)):\n",
    "        train_history = pd.read_csv('train_history_{}_{}.csv'.format(i_epoch, i_lr))\n",
    "        train_history[['loss']].plot();\n",
    "        train_history[['phi', 'gamma', 'rho']].plot();"
   ]
  },
  {
   "cell_type": "code",
   "execution_count": 15,
   "metadata": {},
   "outputs": [
    {
     "data": {
      "text/html": [
       "<div>\n",
       "<style scoped>\n",
       "    .dataframe tbody tr th:only-of-type {\n",
       "        vertical-align: middle;\n",
       "    }\n",
       "\n",
       "    .dataframe tbody tr th {\n",
       "        vertical-align: top;\n",
       "    }\n",
       "\n",
       "    .dataframe thead th {\n",
       "        text-align: right;\n",
       "    }\n",
       "</style>\n",
       "<table border=\"1\" class=\"dataframe\">\n",
       "  <thead>\n",
       "    <tr style=\"text-align: right;\">\n",
       "      <th></th>\n",
       "      <th></th>\n",
       "      <th>theta_x</th>\n",
       "      <th>theta_y</th>\n",
       "      <th>theta_z</th>\n",
       "      <th>dev_loss</th>\n",
       "      <th>phi</th>\n",
       "      <th>gamma</th>\n",
       "      <th>rho</th>\n",
       "    </tr>\n",
       "    <tr>\n",
       "      <th>epoch</th>\n",
       "      <th>lr</th>\n",
       "      <th></th>\n",
       "      <th></th>\n",
       "      <th></th>\n",
       "      <th></th>\n",
       "      <th></th>\n",
       "      <th></th>\n",
       "      <th></th>\n",
       "    </tr>\n",
       "  </thead>\n",
       "  <tbody>\n",
       "    <tr>\n",
       "      <th>2</th>\n",
       "      <th>0.001</th>\n",
       "      <td>0.5152504</td>\n",
       "      <td>-0.30370212</td>\n",
       "      <td>0.00033973268</td>\n",
       "      <td>1.17188</td>\n",
       "      <td>0.000047</td>\n",
       "      <td>-0.000033</td>\n",
       "      <td>-0.000006</td>\n",
       "    </tr>\n",
       "  </tbody>\n",
       "</table>\n",
       "</div>"
      ],
      "text/plain": [
       "               theta_x      theta_y        theta_z dev_loss       phi  \\\n",
       "epoch lr                                                                \n",
       "2     0.001  0.5152504  -0.30370212  0.00033973268  1.17188  0.000047   \n",
       "\n",
       "                gamma       rho  \n",
       "epoch lr                         \n",
       "2     0.001 -0.000033 -0.000006  "
      ]
     },
     "execution_count": 15,
     "metadata": {},
     "output_type": "execute_result"
    }
   ],
   "source": [
    "dev_history"
   ]
  },
  {
   "cell_type": "code",
   "execution_count": 18,
   "metadata": {},
   "outputs": [
    {
     "data": {
      "image/png": "[encoded data removed]",
      "text/plain": [
       "<Figure size 432x288 with 1 Axes>"
      ]
     },
     "metadata": {
      "needs_background": "light"
     },
     "output_type": "display_data"
    }
   ],
   "source": [
    "for i_epoch in range(len(n_epochs_list)):\n",
    "    for i_lr in range(len(lr_list)):\n",
    "        train_history = pd.read_csv('train_history_{}_{}.csv'.format(i_epoch, i_lr))\n",
    "        ax = train_history[['theta_x', 'theta_y', 'theta_z']].plot()\n",
    "        fig = ax.get_figure()\n",
    "        fig.savefig('./position.png')"
   ]
  },
  {
   "cell_type": "code",
   "execution_count": 19,
   "metadata": {},
   "outputs": [
    {
     "data": {
      "image/png": "[encoded data removed]",
      "text/plain": [
       "<Figure size 432x288 with 1 Axes>"
      ]
     },
     "metadata": {
      "needs_background": "light"
     },
     "output_type": "display_data"
    }
   ],
   "source": [
    "for i_epoch in range(len(n_epochs_list)):\n",
    "    for i_lr in range(len(lr_list)):\n",
    "        train_history = pd.read_csv('train_history_{}_{}.csv'.format(i_epoch, i_lr))\n",
    "        ax = train_history[['phi', 'gamma', 'rho']].plot()\n",
    "        fig = ax.get_figure()\n",
    "        fig.savefig('./orientation.png')"
   ]
  },
  {
   "cell_type": "code",
   "execution_count": null,
   "metadata": {},
   "outputs": [],
   "source": []
  }
 ],
 "metadata": {
  "kernelspec": {
   "display_name": "Python 3",
   "language": "python",
   "name": "python3"
  },
  "language_info": {
   "codemirror_mode": {
    "name": "ipython",
    "version": 3
   },
   "file_extension": ".py",
   "mimetype": "text/x-python",
   "name": "python",
   "nbconvert_exporter": "python",
   "pygments_lexer": "ipython3",
   "version": "3.6.7"
  }
 },
 "nbformat": 4,
 "nbformat_minor": 4
}
