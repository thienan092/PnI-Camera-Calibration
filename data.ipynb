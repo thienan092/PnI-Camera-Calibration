{
 "cells": [
  {
   "cell_type": "markdown",
   "metadata": {
    "id": "MkFvbpqrY3FB",
    "papermill": {
     "duration": 0.045559,
     "end_time": "2021-02-10T07:30:56.539885",
     "exception": false,
     "start_time": "2021-02-10T07:30:56.494326",
     "status": "completed"
    },
    "tags": []
   },
   "source": [
    "# Data & Env Initialization"
   ]
  },
  {
   "cell_type": "code",
   "execution_count": 1,
   "metadata": {
    "execution": {
     "iopub.execute_input": "2021-06-28T08:49:36.592396Z",
     "iopub.status.busy": "2021-06-28T08:49:36.592130Z",
     "iopub.status.idle": "2021-06-28T08:49:36.621379Z",
     "shell.execute_reply": "2021-06-28T08:49:36.620349Z",
     "shell.execute_reply.started": "2021-06-28T08:49:36.592370Z"
    },
    "id": "xjOcYAnIfK-3",
    "outputId": "488d941e-23c9-4233-d005-4b9afd76c7ee",
    "papermill": {
     "duration": 3.788072,
     "end_time": "2021-02-10T07:31:00.377823",
     "exception": false,
     "start_time": "2021-02-10T07:30:56.589751",
     "status": "completed"
    },
    "tags": []
   },
   "outputs": [
    {
     "data": {
      "text/plain": [
       "0"
      ]
     },
     "execution_count": 1,
     "metadata": {},
     "output_type": "execute_result"
    }
   ],
   "source": [
    "import os, sys, gc\n",
    "\n",
    "import numpy as np # linear algebra\n",
    "import pandas as pd # data processing, CSV file I/O (e.g. pd.read_csv)\n",
    "import cv2\n",
    "from tqdm import tqdm\n",
    "\n",
    "import matplotlib.pyplot as plt\n",
    "\n",
    "import torch\n",
    "from torch.utils.data import Dataset, DataLoader, SequentialSampler\n",
    "from torchvision import transforms, utils\n",
    "\n",
    "import math\n",
    "import multiprocessing as mp\n",
    "\n",
    "data_path = \"./input/3dmaskdata/\"\n",
    "data_path_dev = \"./input/3dmaskdatadev/\"\n",
    "\n",
    "if not path.exists(\"input/\"):\n",
    "    with zipfile.ZipFile(\"input.zip\", 'r') as zip_ref:\n",
    "        zip_ref.extractall(\".\")\n",
    "\n",
    "bin_mask_np = np.load(data_path + 'bin_mask_np.npy', mmap_mode='r')\n",
    "bin_mask_np_dev = np.load(data_path_dev + 'bin_mask_np.npy', mmap_mode='r')\n",
    "\n",
    "bin_mask_z_np = np.load(data_path + 'bin_mask_np.npy', mmap_mode='r')\n",
    "bin_mask_z_np_dev = np.load(data_path_dev+'bin_mask_np.npy', mmap_mode='r')\n",
    "\n",
    "n_cpu = 0 # mp.cpu_count() # \n",
    "\n",
    "import warnings\n",
    "warnings.filterwarnings(\"ignore\")\n",
    "\n",
    "torch.manual_seed(0)\n",
    "torch.set_default_tensor_type('torch.FloatTensor')\n",
    "\n",
    "df = pd.read_csv('./input/meta-data/train.csv')\n",
    "n_cpu"
   ]
  },
  {
   "cell_type": "code",
   "execution_count": 2,
   "metadata": {},
   "outputs": [
    {
     "data": {
      "text/html": [
       "<div>\n",
       "<style scoped>\n",
       "    .dataframe tbody tr th:only-of-type {\n",
       "        vertical-align: middle;\n",
       "    }\n",
       "\n",
       "    .dataframe tbody tr th {\n",
       "        vertical-align: top;\n",
       "    }\n",
       "\n",
       "    .dataframe thead th {\n",
       "        text-align: right;\n",
       "    }\n",
       "</style>\n",
       "<table border=\"1\" class=\"dataframe\">\n",
       "  <thead>\n",
       "    <tr style=\"text-align: right;\">\n",
       "      <th></th>\n",
       "      <th>ImageId</th>\n",
       "      <th>PredictionString</th>\n",
       "    </tr>\n",
       "  </thead>\n",
       "  <tbody>\n",
       "    <tr>\n",
       "      <th>0</th>\n",
       "      <td>ID_8a6e65317</td>\n",
       "      <td>16 0.254839 -2.57534 -3.10256 7.96539 3.20066 ...</td>\n",
       "    </tr>\n",
       "    <tr>\n",
       "      <th>1</th>\n",
       "      <td>ID_337ddc495</td>\n",
       "      <td>66 0.163988 0.192169 -3.12112 -3.17424 6.55331...</td>\n",
       "    </tr>\n",
       "    <tr>\n",
       "      <th>2</th>\n",
       "      <td>ID_a381bf4d0</td>\n",
       "      <td>43 0.162877 0.00519276 -3.02676 2.1876 3.53427...</td>\n",
       "    </tr>\n",
       "    <tr>\n",
       "      <th>3</th>\n",
       "      <td>ID_7c4a3e0aa</td>\n",
       "      <td>43 0.126957 -3.04442 -3.10883 -14.738 24.6389 ...</td>\n",
       "    </tr>\n",
       "    <tr>\n",
       "      <th>4</th>\n",
       "      <td>ID_8b510fad6</td>\n",
       "      <td>37 0.16017 0.00862796 -3.0887 -3.04548 3.4977 ...</td>\n",
       "    </tr>\n",
       "    <tr>\n",
       "      <th>...</th>\n",
       "      <td>...</td>\n",
       "      <td>...</td>\n",
       "    </tr>\n",
       "    <tr>\n",
       "      <th>4257</th>\n",
       "      <td>ID_de17ab626</td>\n",
       "      <td>70 0.177583 -0.023215 -3.08003 -25.3682 7.5732...</td>\n",
       "    </tr>\n",
       "    <tr>\n",
       "      <th>4258</th>\n",
       "      <td>ID_5a669e211</td>\n",
       "      <td>12 0.23817 -3.12745 3.13929 -7.21988 3.09626 1...</td>\n",
       "    </tr>\n",
       "    <tr>\n",
       "      <th>4259</th>\n",
       "      <td>ID_aa6ffba0a</td>\n",
       "      <td>35 0.166437 -0.497963 -3.12063 12.6792 5.48256...</td>\n",
       "    </tr>\n",
       "    <tr>\n",
       "      <th>4260</th>\n",
       "      <td>ID_29454123f</td>\n",
       "      <td>70 0.14292 0.0290822 -3.12594 -3.42749 3.38674...</td>\n",
       "    </tr>\n",
       "    <tr>\n",
       "      <th>4261</th>\n",
       "      <td>ID_2dee4d6e6</td>\n",
       "      <td>35 0.166939 3.08081 -3.11637 -14.8892 6.55844 ...</td>\n",
       "    </tr>\n",
       "  </tbody>\n",
       "</table>\n",
       "<p>4262 rows × 2 columns</p>\n",
       "</div>"
      ],
      "text/plain": [
       "           ImageId                                   PredictionString\n",
       "0     ID_8a6e65317  16 0.254839 -2.57534 -3.10256 7.96539 3.20066 ...\n",
       "1     ID_337ddc495  66 0.163988 0.192169 -3.12112 -3.17424 6.55331...\n",
       "2     ID_a381bf4d0  43 0.162877 0.00519276 -3.02676 2.1876 3.53427...\n",
       "3     ID_7c4a3e0aa  43 0.126957 -3.04442 -3.10883 -14.738 24.6389 ...\n",
       "4     ID_8b510fad6  37 0.16017 0.00862796 -3.0887 -3.04548 3.4977 ...\n",
       "...            ...                                                ...\n",
       "4257  ID_de17ab626  70 0.177583 -0.023215 -3.08003 -25.3682 7.5732...\n",
       "4258  ID_5a669e211  12 0.23817 -3.12745 3.13929 -7.21988 3.09626 1...\n",
       "4259  ID_aa6ffba0a  35 0.166437 -0.497963 -3.12063 12.6792 5.48256...\n",
       "4260  ID_29454123f  70 0.14292 0.0290822 -3.12594 -3.42749 3.38674...\n",
       "4261  ID_2dee4d6e6  35 0.166939 3.08081 -3.11637 -14.8892 6.55844 ...\n",
       "\n",
       "[4262 rows x 2 columns]"
      ]
     },
     "execution_count": 2,
     "metadata": {},
     "output_type": "execute_result"
    }
   ],
   "source": [
    "df"
   ]
  },
  {
   "cell_type": "markdown",
   "metadata": {},
   "source": [
    "# Constants"
   ]
  },
  {
   "cell_type": "code",
   "execution_count": 3,
   "metadata": {},
   "outputs": [],
   "source": [
    "INF = 1e3\n",
    "\n",
    "IMG_SHAPE = (2710, 3384) # size of ApolloCar3D images\n",
    "h_out, w_out = 128, 256 # size of model's output\n",
    "MINz = 1e-2\n",
    "camera_matrix = np.array([[2304.5479, 0,  1686.2379],\n",
    "                          [0, 2305.8757, 1354.9849],\n",
    "                          [0, 0, 1.]], dtype=np.float32)\n",
    "camera_matrix_inv = np.linalg.inv(camera_matrix)"
   ]
  },
  {
   "cell_type": "markdown",
   "metadata": {
    "id": "OPX1AqiWgs4Y",
    "papermill": {
     "duration": 0.048753,
     "end_time": "2021-02-10T07:31:00.840313",
     "exception": false,
     "start_time": "2021-02-10T07:31:00.79156",
     "status": "completed"
    },
    "tags": []
   },
   "source": [
    "# Data Viz & Utils"
   ]
  },
  {
   "cell_type": "code",
   "execution_count": 4,
   "metadata": {
    "execution": {
     "iopub.execute_input": "2021-06-28T08:49:37.113654Z",
     "iopub.status.busy": "2021-06-28T08:49:37.113321Z",
     "iopub.status.idle": "2021-06-28T08:49:37.201363Z",
     "shell.execute_reply": "2021-06-28T08:49:37.200507Z",
     "shell.execute_reply.started": "2021-06-28T08:49:37.113623Z"
    },
    "papermill": {
     "duration": 0.201901,
     "end_time": "2021-02-10T07:31:01.090145",
     "exception": false,
     "start_time": "2021-02-10T07:31:00.888244",
     "status": "completed"
    },
    "tags": []
   },
   "outputs": [
    {
     "data": {
      "image/png": "[encoded data removed]",
      "text/plain": [
       "<Figure size 576x576 with 1 Axes>"
      ]
     },
     "metadata": {
      "needs_background": "light"
     },
     "output_type": "display_data"
    },
    {
     "data": {
      "image/png": "[encoded data removed]",
      "text/plain": [
       "<Figure size 576x576 with 1 Axes>"
      ]
     },
     "metadata": {
      "needs_background": "light"
     },
     "output_type": "display_data"
    },
    {
     "data": {
      "image/png": "[encoded data removed]",
      "text/plain": [
       "<Figure size 576x576 with 1 Axes>"
      ]
     },
     "metadata": {
      "needs_background": "light"
     },
     "output_type": "display_data"
    },
    {
     "data": {
      "image/png": "[encoded data removed]",
      "text/plain": [
       "<Figure size 576x576 with 1 Axes>"
      ]
     },
     "metadata": {
      "needs_background": "light"
     },
     "output_type": "display_data"
    }
   ],
   "source": [
    "from math import sin, cos\n",
    "\n",
    "def str2coords(s, names=['id', 'pitch', 'yaw', 'roll', 'x', 'y', 'z']):\n",
    "    '''\n",
    "    Input:\n",
    "        s: PredictionString (e.g. from train dataframe)\n",
    "        names: array of what to extract from the string\n",
    "    Output:\n",
    "        list of dicts with keys from `names`\n",
    "    '''\n",
    "    coords = []\n",
    "    for l in np.array(s.split()).reshape([-1, 7]):\n",
    "        coords.append(dict(zip(names, l.astype('float'))))\n",
    "        if 'id' in coords[-1]:\n",
    "            coords[-1]['id'] = int(coords[-1]['id'])\n",
    "    return coords\n",
    "\n",
    "def get_img_coords(s, trans_x=0., trans_y=0.):\n",
    "    '''\n",
    "    Input is a PredictionString (e.g. from train dataframe)\n",
    "    Output is two arrays:\n",
    "        xs: x coordinates in the image\n",
    "        ys: y coordinates in the image\n",
    "    '''\n",
    "    world_mat = np.eye(4)\n",
    "    \n",
    "    trans = np.array([trans_x, trans_y, 0.0])\n",
    "    \n",
    "    world_mat[:3, 3]  = trans\n",
    "    world_mat[:3, :3] = np.array([[1.0, 0.0, 0.0], \n",
    "                              [0.0, 1.0, 0.0], \n",
    "                              [0.0, 0.0, 1.0]]).T\n",
    "    world_mat = world_mat[:3, :]\n",
    "    coords = str2coords(s)\n",
    "    xs = [c['x'] for c in coords]\n",
    "    ys = [c['y'] for c in coords]\n",
    "    zs = [c['z'] for c in coords]\n",
    "    \n",
    "    hs = [1.0 for c in coords]\n",
    "    P = np.array(list(zip(xs, ys, zs, hs))).T\n",
    "\n",
    "    img_p = np.dot(camera_matrix, np.dot(world_mat, P)).T\n",
    "    img_p[:, 0] /= img_p[:, 2]\n",
    "    img_p[:, 1] /= img_p[:, 2]\n",
    "    img_cs = img_p[:, 0]\n",
    "    img_rs = img_p[:, 1]\n",
    "    \n",
    "    img_zs = img_p[:, 2] # z = Distance from the camera\n",
    "    \n",
    "    return img_rs, img_cs, img_zs, coords\n",
    "\n",
    "def _regr_preprocess(regr_dict, is_flip=False):\n",
    "    regr_dict_co = dict()\n",
    "    regr_dict_ag = dict()\n",
    "    for name in ['x', 'y', 'z']:\n",
    "        regr_dict_co[name] = regr_dict[name]\n",
    "    regr_dict_ag['roll'] = regr_dict['roll']\n",
    "    regr_dict_ag['pitch'] = regr_dict['pitch']\n",
    "    regr_dict_ag['yaw'] = regr_dict['yaw']\n",
    "    \n",
    "    return regr_dict_co, regr_dict_ag\n",
    "\n",
    "# https://www.kaggle.com/diegojohnson/centernet-objects-as-points\n",
    "def get_heatmap(p_x, p_y, sigma=3.):\n",
    "    X1 = np.linspace(1, w_out, w_out)\n",
    "    Y1 = np.linspace(1, h_out, h_out)\n",
    "    [X, Y] = np.meshgrid(X1, Y1)\n",
    "    X = (X - p_x)*2.\n",
    "    Y = (Y - p_y)*2.\n",
    "    D2 = X * X + Y * Y\n",
    "    E2 = sigma\n",
    "    heatmap = np.exp(-np.sqrt(D2) / E2)\n",
    "    return heatmap\n",
    "\n",
    "def get_mask_and_regr(labels, is_heatmap=True):\n",
    "    regr_names = ['x', 'y', 'z', 'pitch', 'yaw', 'roll']\n",
    "    mask = np.zeros([h_out, w_out, 1], dtype='float16')\n",
    "    bin_mask = np.zeros([h_out, w_out, 3], dtype='float16')\n",
    "    regr_co_soft = np.zeros([h_out, w_out, 3], dtype='float16')\n",
    "    regr_z = np.ones([h_out, w_out], dtype='float16') * INF\n",
    "    if labels is not None:\n",
    "        rs, cs, zs, coords = get_img_coords(labels)\n",
    "    \n",
    "        for r, c, z, regr_dict in zip(rs, cs, zs, coords):\n",
    "            r = (r) * (h_out*2) / IMG_SHAPE[0] - h_out\n",
    "            r = (r).astype('int')\n",
    "            c = (c) * w_out / IMG_SHAPE[1]\n",
    "            c = (c).astype('int')\n",
    "\n",
    "            if (r >= 0) and (r < h_out) and (c >= 0) and (c < w_out):\n",
    "                regr_dict_co, _ = _regr_preprocess(regr_dict, is_flip=False)\n",
    "                regr_co_soft[r, c] = [regr_dict_co[n] for n in sorted(regr_dict_co)]\n",
    "\n",
    "                if is_heatmap:\n",
    "                    heatmap = get_heatmap(c, r)\n",
    "                    mask[:,:,0] = np.maximum(mask[:,:,0],heatmap[:,:])\n",
    "                    rows, cols = np.where(heatmap > 0.25)\n",
    "\n",
    "                    for r0, c0 in zip(rows, cols):\n",
    "                        if z < regr_z[r0, c0]:\n",
    "                            regr_z[r0, c0] = z\n",
    "                            regr_co_soft[r0, c0] = regr_co_soft[r, c]\n",
    "                            bin_mask[r0,c0,:] = 1.\n",
    "                else:\n",
    "                    bin_mask[r, c,:] = 1.\n",
    "\n",
    "    return mask, bin_mask, regr_co_soft\n",
    "\n",
    "class CarDataset(Dataset):\n",
    "    \"\"\"Car dataset.\"\"\"\n",
    "\n",
    "    def __init__(self, dataframe, theta=[-0.517,0.303,-0.479], phi=-0.095, gamma=0.016, rho=0.073):\n",
    "        self.df = dataframe\n",
    "        self.theta = theta\n",
    "        self.R = [[np.cos(phi),-np.sin(phi),0.],[np.sin(phi),np.cos(phi),0.],[0.,0.,1.]]\n",
    "        self.Y = [[1.,0.,0.],[0.,np.cos(gamma),-np.sin(gamma)],[0.,np.sin(gamma),np.cos(gamma)]]\n",
    "        self.P = [[np.cos(rho),0.,np.sin(rho)],[0.,1.,0.],[-np.sin(rho),0.,np.cos(rho)]]\n",
    "\n",
    "    def __len__(self):\n",
    "        return len(self.df)\n",
    "\n",
    "    def __getitem__(self, idx):\n",
    "        if torch.is_tensor(idx):\n",
    "            idx = idx.tolist()\n",
    "            \n",
    "        # Get image name\n",
    "        im_code, labels = self.df.iloc[idx]\n",
    "        # PART 2\n",
    "        mask_soft_, bin_mask_, regr_co_soft_ = get_mask_and_regr(labels)\n",
    "        mask_soft_ = np.rollaxis(mask_soft_, 2, 0)\n",
    "        mask_soft = torch.from_numpy(mask_soft_).float()\n",
    "        del mask_soft_\n",
    "        \n",
    "        rs, cs = np.where(bin_mask_[:,:,0]>0.)\n",
    "        ys = (rs+h_out+.5) * IMG_SHAPE[0] / (h_out*2)\n",
    "        xs = (cs+.5) * IMG_SHAPE[1] / w_out\n",
    "        sky_labels = np.concatenate([np.reshape(xs,[-1,1])*regr_co_soft_[rs,cs,-1:],np.reshape(ys,[-1,1])*regr_co_soft_[rs,cs,-1:],regr_co_soft_[rs,cs,-1:]],axis=1)\n",
    "        sky_label0 = np.dot(camera_matrix_inv, sky_labels.T).T\n",
    "        sky_label0 = np.concatenate((np.zeros_like(sky_label0[:,:1]), np.zeros_like(sky_label0), sky_label0),axis=1)\n",
    "        sky_label0 = np.reshape(sky_label0, [-1]).tolist()\n",
    "        sky_label0 = ' '.join([str(elem) for elem in sky_label0])\n",
    "        \n",
    "        if len(sky_label0)==0:\n",
    "            sky_label0 = None\n",
    "        _, _, regr_co_soft_ = get_mask_and_regr(sky_label0, is_heatmap=False)\n",
    "        \n",
    "        R = np.reshape(np.array(self.R), [3,-1])\n",
    "        P = np.reshape(np.array(self.P), [3,-1])\n",
    "        Y = np.reshape(np.array(self.Y), [3,-1])\n",
    "        # R = R / np.linalg.norm(R, axis=1, keepdims=True)\n",
    "        \n",
    "        sky_labels = np.matmul(np.matmul(np.matmul(np.dot(camera_matrix_inv, sky_labels.T).T, R.T), Y.T), P.T) + np.reshape(np.array(self.theta), [-1,3])\n",
    "        sky_labels = np.concatenate((np.zeros_like(sky_labels[:,:1]), np.zeros_like(sky_labels), sky_labels),axis=1)\n",
    "        sky_labels = sky_labels.tolist()\n",
    "        sky_labels = ' '.join([' '.join([str(num) for num in (np.reshape(elem, [-1]).tolist())]) for elem in sky_labels if (elem[-1]>MINz)])\n",
    "        \n",
    "        if len(sky_labels)==0:\n",
    "            sky_labels = None\n",
    "        _, sky_bin_mask_, sky_regr_co_soft_ = get_mask_and_regr(sky_labels, is_heatmap=False)\n",
    "\n",
    "        bin_mask_ = np.rollaxis(bin_mask_, 2, 0)\n",
    "        bin_mask = torch.from_numpy(bin_mask_).float()\n",
    "        \n",
    "        regr_co_soft_ = np.rollaxis(regr_co_soft_, 2, 0)\n",
    "        regr_co_soft = torch.from_numpy(regr_co_soft_).float()\n",
    "        \n",
    "        sky_bin_mask_ = np.rollaxis(sky_bin_mask_, 2, 0)\n",
    "        sky_bin_mask = torch.from_numpy(sky_bin_mask_).float()\n",
    "        \n",
    "        sky_regr_co_soft_ = np.rollaxis(sky_regr_co_soft_[:,:,:1], 2, 0)\n",
    "        sky_regr_co_soft = torch.from_numpy(sky_regr_co_soft_).float()\n",
    "        \n",
    "        del bin_mask_, regr_co_soft_, sky_bin_mask_, sky_regr_co_soft_\n",
    "        \n",
    "        mask_soft_, bin_mask_, regr_co_soft_, sky_bin_mask_, sky_regr_co_soft_ = None, None, None, None, None\n",
    "        return [mask_soft, bin_mask, regr_co_soft, sky_bin_mask]\n",
    "\n",
    "dataset = CarDataset(df)\n",
    "\n",
    "mask_soft, bin_mask, regr_co_soft, sky_bin_mask = dataset[0]\n",
    "mask_soft, bin_mask, regr_co_soft, sky_bin_mask = mask_soft.float(), bin_mask.float(), regr_co_soft.float(), sky_bin_mask.float()\n",
    "\n",
    "plt.figure(figsize=(8,8))\n",
    "plt.imshow(mask_soft.permute(1,2,0).numpy().squeeze())\n",
    "plt.show()\n",
    "\n",
    "plt.figure(figsize=(8,8))\n",
    "plt.imshow((bin_mask.permute(1,2,0).numpy()[:,:,-1]).squeeze())\n",
    "plt.show()\n",
    "\n",
    "plt.figure(figsize=(8,8))\n",
    "plt.imshow(regr_co_soft.permute(1,2,0).numpy()[:,:,-1]/350.)\n",
    "plt.show()\n",
    "\n",
    "plt.figure(figsize=(8,8))\n",
    "plt.imshow((sky_bin_mask.permute(1,2,0).numpy()[:,:,-1]).squeeze())\n",
    "plt.show()"
   ]
  },
  {
   "cell_type": "markdown",
   "metadata": {
    "papermill": {
     "duration": 0.063994,
     "end_time": "2021-02-10T07:31:03.752935",
     "exception": false,
     "start_time": "2021-02-10T07:31:03.688941",
     "status": "completed"
    },
    "tags": []
   },
   "source": [
    "# Version"
   ]
  },
  {
   "cell_type": "code",
   "execution_count": 5,
   "metadata": {
    "execution": {
     "iopub.execute_input": "2021-06-28T08:49:37.995089Z",
     "iopub.status.busy": "2021-06-28T08:49:37.994718Z",
     "iopub.status.idle": "2021-06-28T08:49:38.018909Z",
     "shell.execute_reply": "2021-06-28T08:49:38.017830Z",
     "shell.execute_reply.started": "2021-06-28T08:49:37.995050Z"
    },
    "papermill": {
     "duration": 0.093982,
     "end_time": "2021-02-10T07:31:03.911359",
     "exception": false,
     "start_time": "2021-02-10T07:31:03.817377",
     "status": "completed"
    },
    "tags": []
   },
   "outputs": [
    {
     "data": {
      "text/plain": [
       "'1.3.1+cu92'"
      ]
     },
     "execution_count": 5,
     "metadata": {},
     "output_type": "execute_result"
    }
   ],
   "source": [
    "torch.__version__"
   ]
  },
  {
   "cell_type": "code",
   "execution_count": 6,
   "metadata": {
    "execution": {
     "iopub.execute_input": "2021-06-28T08:49:38.690541Z",
     "iopub.status.busy": "2021-06-28T08:49:38.690174Z",
     "iopub.status.idle": "2021-06-28T08:49:38.696429Z",
     "shell.execute_reply": "2021-06-28T08:49:38.695586Z",
     "shell.execute_reply.started": "2021-06-28T08:49:38.690499Z"
    },
    "papermill": {
     "duration": 0.464923,
     "end_time": "2021-02-10T07:31:05.250338",
     "exception": false,
     "start_time": "2021-02-10T07:31:04.785415",
     "status": "completed"
    },
    "tags": []
   },
   "outputs": [
    {
     "name": "stdout",
     "output_type": "stream",
     "text": [
      "cuda\n"
     ]
    }
   ],
   "source": [
    "# Gets the GPU if there is one, otherwise the cpu\n",
    "device = torch.device(\"cuda\" if torch.cuda.is_available() else \"cpu\")\n",
    "print(device)"
   ]
  },
  {
   "cell_type": "markdown",
   "metadata": {
    "papermill": {
     "duration": 0.065045,
     "end_time": "2021-02-10T07:31:06.169602",
     "exception": false,
     "start_time": "2021-02-10T07:31:06.104557",
     "status": "completed"
    },
    "tags": []
   },
   "source": [
    "# Dataset"
   ]
  },
  {
   "cell_type": "code",
   "execution_count": 7,
   "metadata": {
    "execution": {
     "iopub.execute_input": "2021-06-28T08:49:38.973849Z",
     "iopub.status.busy": "2021-06-28T08:49:38.973179Z",
     "iopub.status.idle": "2021-06-28T08:49:39.042337Z",
     "shell.execute_reply": "2021-06-28T08:49:39.041460Z",
     "shell.execute_reply.started": "2021-06-28T08:49:38.973812Z"
    },
    "papermill": {
     "duration": 0.144032,
     "end_time": "2021-02-10T07:31:06.379027",
     "exception": false,
     "start_time": "2021-02-10T07:31:06.234995",
     "status": "completed"
    },
    "tags": []
   },
   "outputs": [],
   "source": [
    "dataset = CarDataset(df)\n",
    "train_loader = torch.utils.data.DataLoader(dataset, batch_size=1, num_workers=0)"
   ]
  },
  {
   "cell_type": "markdown",
   "metadata": {},
   "source": [
    "# Dataset Split"
   ]
  },
  {
   "cell_type": "code",
   "execution_count": 8,
   "metadata": {},
   "outputs": [
    {
     "name": "stderr",
     "output_type": "stream",
     "text": [
      "100%|██████████████████████████████████████████████████████████████████████████████| 4262/4262 [02:26<00:00, 29.01it/s]\n"
     ]
    }
   ],
   "source": [
    "mask_soft, bin_mask, regr_co_soft, sky_bin_mask = None, None, None, None\n",
    "for batch_idx, (mask_soft_batch, bin_mask_batch, regr_co_soft_batch, sky_bin_mask_batch) in enumerate(tqdm(train_loader)):\n",
    "    rs, cs = np.where(bin_mask_batch[0,0,:,:] > 0.)\n",
    "    indices = np.concatenate([np.reshape(rs,[-1,1]),np.reshape(cs,[-1,1])], axis=1)\n",
    "    \n",
    "    dat = (regr_co_soft_batch[0,:,:,:]).permute(1,2,0)[rs,cs,:]\n",
    "    \n",
    "    rs, cs = np.where(sky_bin_mask_batch[0,0,:,:] > 0.)\n",
    "    output = np.concatenate([np.reshape(rs,[-1,1]),np.reshape(cs,[-1,1])], axis=1)\n",
    "\n",
    "    np.save(\"Sky303/input_indices_{}.npy\".format(batch_idx), indices)\n",
    "    np.save(\"Sky303/input_data_{}.npy\".format(batch_idx), dat.numpy())\n",
    "    \n",
    "    np.save(\"Sky303/output_indices_{}.npy\".format(batch_idx), output)"
   ]
  }
 ],
 "metadata": {
  "kernelspec": {
   "display_name": "Python 3",
   "language": "python",
   "name": "python3"
  },
  "language_info": {
   "codemirror_mode": {
    "name": "ipython",
    "version": 3
   },
   "file_extension": ".py",
   "mimetype": "text/x-python",
   "name": "python",
   "nbconvert_exporter": "python",
   "pygments_lexer": "ipython3",
   "version": "3.6.7"
  }
 },
 "nbformat": 4,
 "nbformat_minor": 4
}
